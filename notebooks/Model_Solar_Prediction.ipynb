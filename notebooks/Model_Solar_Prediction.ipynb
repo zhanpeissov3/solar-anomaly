{
  "nbformat": 4,
  "nbformat_minor": 0,
  "metadata": {
    "colab": {
      "provenance": []
    },
    "kernelspec": {
      "name": "python3",
      "display_name": "Python 3"
    },
    "language_info": {
      "name": "python"
    }
  },
  "cells": [
    {
      "cell_type": "code",
      "source": [
        "import pandas as pd\n",
        "from sklearn.model_selection import train_test_split, GridSearchCV\n",
        "from sklearn.preprocessing import StandardScaler\n",
        "from sklearn.ensemble import IsolationForest\n",
        "import xgboost as xgb\n",
        "import joblib"
      ],
      "metadata": {
        "id": "ebNcCCH2XYLX"
      },
      "execution_count": 11,
      "outputs": []
    },
    {
      "cell_type": "code",
      "source": [
        "df = pd.read_csv('data/processed_solar_data.csv', parse_dates=['Timestamp'])"
      ],
      "metadata": {
        "id": "xV_9nYbzXkl8"
      },
      "execution_count": 12,
      "outputs": []
    },
    {
      "cell_type": "code",
      "source": [
        "# Инжиниринг признаков\n",
        "features = ['AirTemperature','RelativeHumidity','WindSpeed','hour','kWp','gen_ma_3h']\n",
        "X = df[features]\n",
        "y = df['SolarGeneration']\n",
        "\n",
        "# Разделение данных\n",
        "X_train, X_test, y_train, y_test = train_test_split(\n",
        "    X, y,\n",
        "    test_size=0.2,\n",
        "    random_state=42\n",
        ")\n",
        "\n",
        "# Масштабирование\n",
        "scaler = StandardScaler()\n",
        "X_train_scaled = scaler.fit_transform(X_train)\n",
        "X_test_scaled = scaler.transform(X_test)"
      ],
      "metadata": {
        "id": "YNZ6RU3PXmJU"
      },
      "execution_count": 13,
      "outputs": []
    },
    {
      "cell_type": "code",
      "source": [
        "# 2. Обучение модели прогнозирования\n",
        "# Поиск оптимальных параметров\n",
        "param_grid = {\n",
        "    'n_estimators': [100, 200],\n",
        "    'max_depth': [3, 5],\n",
        "    'learning_rate': [0.01, 0.1]\n",
        "}\n",
        "\n",
        "grid = GridSearchCV(\n",
        "    estimator=xgb.XGBRegressor(objective='reg:squarederror'),\n",
        "    param_grid=param_grid,\n",
        "    cv=3,\n",
        "    scoring='neg_mean_squared_error'\n",
        ")\n",
        "\n",
        "grid.fit(X_train_scaled, y_train)\n",
        "best_model = grid.best_estimator_"
      ],
      "metadata": {
        "id": "87qX8ffMXt-9"
      },
      "execution_count": 14,
      "outputs": []
    },
    {
      "cell_type": "code",
      "source": [
        "# Экспорт модели\n",
        "joblib.dump(best_model, 'solar_predictor.pkl')\n",
        "joblib.dump(scaler, 'scaler.pkl')"
      ],
      "metadata": {
        "colab": {
          "base_uri": "https://localhost:8080/"
        },
        "id": "Mgcruh5MX-jr",
        "outputId": "c448d591-491d-4f46-ef88-039fd6e3da0c"
      },
      "execution_count": 15,
      "outputs": [
        {
          "output_type": "execute_result",
          "data": {
            "text/plain": [
              "['scaler.pkl']"
            ]
          },
          "metadata": {},
          "execution_count": 15
        }
      ]
    },
    {
      "cell_type": "code",
      "source": [
        "# 3. Детекция аномалий\n",
        "# Обучение Isolation Forest\n",
        "iso_forest = IsolationForest(\n",
        "    n_estimators=100,\n",
        "    contamination=0.05,\n",
        "    random_state=42\n",
        ")\n",
        "\n",
        "iso_forest.fit(X_train_scaled)\n",
        "\n",
        "# Экспорт детектора\n",
        "joblib.dump(iso_forest, 'anomaly_detector.pkl')"
      ],
      "metadata": {
        "colab": {
          "base_uri": "https://localhost:8080/"
        },
        "id": "20oX98o1YTeP",
        "outputId": "8f6d094b-d4a8-40b1-88a8-64cb658de0d1"
      },
      "execution_count": 16,
      "outputs": [
        {
          "output_type": "execute_result",
          "data": {
            "text/plain": [
              "['anomaly_detector.pkl']"
            ]
          },
          "metadata": {},
          "execution_count": 16
        }
      ]
    },
    {
      "cell_type": "code",
      "source": [
        "# 4. Оценка производительности\n",
        "from sklearn.metrics import mean_absolute_error, mean_squared_error, r2_score\n",
        "\n",
        "# Прогнозирование\n",
        "y_pred = best_model.predict(X_test_scaled)\n",
        "\n",
        "# Вычисление метрик\n",
        "mse = mean_squared_error(y_test, y_pred)\n",
        "rmse = mse ** 0.5  # Ручное вычисление корня\n",
        "r2 = r2_score(y_test, y_pred)\n",
        "\n",
        "print(f\"\"\"\n",
        "Метрики модели:\n",
        "- MAE: {mean_absolute_error(y_test, y_pred):.2f}\n",
        "- RMSE: {rmse:.2f}\n",
        "- R2: {r2:.2f}\n",
        "\"\"\")\n",
        "\n",
        "# Аномалии\n",
        "anomaly_scores = iso_forest.decision_function(X_test_scaled)\n",
        "print(f\"Обнаружено аномалий: {(anomaly_scores < 0).sum()} ({(anomaly_scores < 0).mean()*100:.1f}%)\")"
      ],
      "metadata": {
        "colab": {
          "base_uri": "https://localhost:8080/"
        },
        "id": "yViyshloYZfV",
        "outputId": "46d10a09-c1fb-4747-d04a-3c575d22e909"
      },
      "execution_count": 18,
      "outputs": [
        {
          "output_type": "stream",
          "name": "stdout",
          "text": [
            "\n",
            "Метрики модели:\n",
            "- MAE: 0.73\n",
            "- RMSE: 1.65\n",
            "- R2: 0.96\n",
            "\n",
            "Обнаружено аномалий: 3340 (4.9%)\n"
          ]
        }
      ]
    }
  ]
}